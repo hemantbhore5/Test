{
 "cells": [
  {
   "cell_type": "markdown",
   "id": "575ec9b1",
   "metadata": {},
   "source": [
    " ### Python Basic Programming : Assignment 2"
   ]
  },
  {
   "cell_type": "code",
   "execution_count": 7,
   "id": "6295ab2a",
   "metadata": {},
   "outputs": [
    {
     "name": "stdout",
     "output_type": "stream",
     "text": [
      "enter the value in kilometers400\n",
      "the value in miles is  248.4\n"
     ]
    }
   ],
   "source": [
    "# 1.Write a Python program to convert kilometers to miles?\n",
    "\n",
    "x=float(input(\"enter the value in kilometers\"))\n",
    "y=x*0.621\n",
    "print(\"the value in miles is \", y )\n"
   ]
  },
  {
   "cell_type": "code",
   "execution_count": 1,
   "id": "37675074",
   "metadata": {},
   "outputs": [
    {
     "name": "stdout",
     "output_type": "stream",
     "text": [
      "enter the value of temperature in Celsius34\n",
      "the value in Fahrenheit is  93.2\n"
     ]
    }
   ],
   "source": [
    "# 2. Write a Python program to convert Celsius to Fahrenheit?\n",
    "\n",
    "Celscius=float(input(\"enter the value of temperature in Celsius\"))\n",
    "Fahrenheit=Celscius*1.8 + 32\n",
    "print(\"the value in Fahrenheit is \", Fahrenheit )\n"
   ]
  },
  {
   "cell_type": "code",
   "execution_count": 2,
   "id": "cb40f1af",
   "metadata": {},
   "outputs": [
    {
     "name": "stdout",
     "output_type": "stream",
     "text": [
      "Enter year: 2022\n",
      "Enter month: 01\n",
      "    January 2022\n",
      "Mo Tu We Th Fr Sa Su\n",
      "                1  2\n",
      " 3  4  5  6  7  8  9\n",
      "10 11 12 13 14 15 16\n",
      "17 18 19 20 21 22 23\n",
      "24 25 26 27 28 29 30\n",
      "31\n",
      "\n"
     ]
    }
   ],
   "source": [
    "# 3. Write a Python program to display calendar?\n",
    "\n",
    "import calendar\n",
    "\n",
    "yy = int(input(\"Enter year: \"))\n",
    "mm = int(input(\"Enter month: \"))\n",
    "\n",
    "print(calendar.month(yy, mm))"
   ]
  },
  {
   "cell_type": "code",
   "execution_count": 7,
   "id": "75286d08",
   "metadata": {},
   "outputs": [
    {
     "name": "stdout",
     "output_type": "stream",
     "text": [
      "enter coefficient of x^2:1\n",
      "enter coefficient of x:2\n",
      "enter constant:3\n",
      "the roots of the equation are: (-1-1.4142135623730951j) (-1+1.4142135623730951j)\n"
     ]
    }
   ],
   "source": [
    "# 4. Write a Python program to solve quadratic equation?\n",
    "\n",
    "import cmath\n",
    "\n",
    "# for ax^2+bx+c=0\n",
    "\n",
    "a=int(input(\"enter coefficient of x^2:\"))\n",
    "b=int(input(\"enter coefficient of x:\"))\n",
    "c=int(input(\"enter constant:\"))\n",
    "\n",
    "x= (b**2) - (4 *a*c)\n",
    "\n",
    "root1=(- b - cmath.sqrt(x)) / (2*a)\n",
    "root2=(- b + cmath.sqrt(x)) / (2*a)\n",
    "\n",
    "print(\"the roots of the equation are:\", root1, root2)"
   ]
  },
  {
   "cell_type": "code",
   "execution_count": 12,
   "id": "5acc8f40",
   "metadata": {},
   "outputs": [
    {
     "name": "stdout",
     "output_type": "stream",
     "text": [
      "enter first value a:212\n",
      "enter second value b:77\n",
      "new value of a is 77 and new value of b is 212\n"
     ]
    }
   ],
   "source": [
    "# 5. Write a Python program to swap two variables without temp variable?\n",
    "\n",
    "a=int(input(\"enter first value a:\"))\n",
    "b=int(input(\"enter second value b:\"))\n",
    "a,b=b,a\n",
    "\n",
    "print(\"new value of a is\", a , \"and new value of b is\", b)"
   ]
  },
  {
   "cell_type": "code",
   "execution_count": 13,
   "id": "86a3c9e4",
   "metadata": {},
   "outputs": [
    {
     "data": {
      "text/plain": [
       "77"
      ]
     },
     "execution_count": 13,
     "metadata": {},
     "output_type": "execute_result"
    }
   ],
   "source": [
    "a"
   ]
  },
  {
   "cell_type": "code",
   "execution_count": 14,
   "id": "35a0036c",
   "metadata": {},
   "outputs": [
    {
     "data": {
      "text/plain": [
       "212"
      ]
     },
     "execution_count": 14,
     "metadata": {},
     "output_type": "execute_result"
    }
   ],
   "source": [
    "b"
   ]
  },
  {
   "cell_type": "code",
   "execution_count": null,
   "id": "7097a146",
   "metadata": {},
   "outputs": [],
   "source": []
  }
 ],
 "metadata": {
  "kernelspec": {
   "display_name": "Python 3",
   "language": "python",
   "name": "python3"
  },
  "language_info": {
   "codemirror_mode": {
    "name": "ipython",
    "version": 3
   },
   "file_extension": ".py",
   "mimetype": "text/x-python",
   "name": "python",
   "nbconvert_exporter": "python",
   "pygments_lexer": "ipython3",
   "version": "3.8.8"
  }
 },
 "nbformat": 4,
 "nbformat_minor": 5
}
