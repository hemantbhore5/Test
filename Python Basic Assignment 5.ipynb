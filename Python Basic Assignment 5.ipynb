{
 "cells": [
  {
   "cell_type": "markdown",
   "id": "593dc719",
   "metadata": {},
   "source": [
    "Python Basic Assignment 5"
   ]
  },
  {
   "cell_type": "markdown",
   "id": "78fd316d",
   "metadata": {},
   "source": [
    "1.What does an empty dictionary's code look like?\n",
    "\n",
    "Ans: An empty dictionary is represented by two empty curly brackets\n",
    "     d = {}   "
   ]
  },
  {
   "cell_type": "markdown",
   "id": "32860ff8",
   "metadata": {},
   "source": [
    "2.what is the value of dictionary value with key 'foo' and the value 42 ?\n",
    "\n",
    "Ans: d= {'foo':42}"
   ]
  },
  {
   "cell_type": "markdown",
   "id": "f121c05f",
   "metadata": {},
   "source": [
    "3.What is the most significant distinction between a dictionary and a list?\n",
    "\n",
    "Ans: Dictionaries are represented by curly brackets {}.\n",
    "     lists are represented by []\n",
    "     The dictionary holds data as key:value pair, while lists hold individual data\n",
    "     The Items in a dictionary are Unordered , while the items in a list are ordered"
   ]
  },
  {
   "cell_type": "markdown",
   "id": "2892496a",
   "metadata": {},
   "source": [
    "4.What happens if you try to access spam ['foo'] if spam is {'bar':100} ?\n",
    "\n",
    "Ans: IF we try to access spam['foo'] then it will raise an error that is key error "
   ]
  },
  {
   "cell_type": "code",
   "execution_count": 1,
   "id": "4636c17d",
   "metadata": {},
   "outputs": [
    {
     "ename": "KeyError",
     "evalue": "'foo'",
     "output_type": "error",
     "traceback": [
      "\u001b[1;31m---------------------------------------------------------------------------\u001b[0m",
      "\u001b[1;31mKeyError\u001b[0m                                  Traceback (most recent call last)",
      "\u001b[1;32m<ipython-input-1-3fa7eee1403a>\u001b[0m in \u001b[0;36m<module>\u001b[1;34m\u001b[0m\n\u001b[0;32m      1\u001b[0m \u001b[0mspam\u001b[0m\u001b[1;33m=\u001b[0m\u001b[1;33m{\u001b[0m\u001b[1;34m'bar'\u001b[0m\u001b[1;33m:\u001b[0m\u001b[1;36m100\u001b[0m\u001b[1;33m}\u001b[0m\u001b[1;33m\u001b[0m\u001b[1;33m\u001b[0m\u001b[0m\n\u001b[1;32m----> 2\u001b[1;33m \u001b[0mspam\u001b[0m\u001b[1;33m[\u001b[0m\u001b[1;34m'foo'\u001b[0m\u001b[1;33m]\u001b[0m\u001b[1;33m\u001b[0m\u001b[1;33m\u001b[0m\u001b[0m\n\u001b[0m",
      "\u001b[1;31mKeyError\u001b[0m: 'foo'"
     ]
    }
   ],
   "source": [
    "spam={'bar':100}\n",
    "spam['foo']"
   ]
  },
  {
   "cell_type": "markdown",
   "id": "7f8e49e4",
   "metadata": {},
   "source": [
    "5.If a dictionary is stored in spam,what is the difference between the expressions 'cat' in spam and 'cat' in spam.keys() ?\n",
    "\n",
    "Ans: spam['cat'] is used to check at what index key 'cat, exist.\n",
    "     spam.keys() is used to get all the keys present inside spam dictionary."
   ]
  },
  {
   "cell_type": "code",
   "execution_count": 8,
   "id": "745ece35",
   "metadata": {},
   "outputs": [
    {
     "data": {
      "text/plain": [
       "dict_keys(['cat', 'dog'])"
      ]
     },
     "execution_count": 8,
     "metadata": {},
     "output_type": "execute_result"
    }
   ],
   "source": [
    "spam={'cat':1,'dog':2}\n",
    "spam.keys()"
   ]
  },
  {
   "cell_type": "code",
   "execution_count": 9,
   "id": "3b3ed543",
   "metadata": {},
   "outputs": [
    {
     "data": {
      "text/plain": [
       "1"
      ]
     },
     "execution_count": 9,
     "metadata": {},
     "output_type": "execute_result"
    }
   ],
   "source": [
    "spam['cat']"
   ]
  },
  {
   "cell_type": "markdown",
   "id": "94f7fbce",
   "metadata": {},
   "source": [
    "6.If a dictionary is stored in spam,what is the difference between the expressions 'cat' in spam and 'cat' in spam.values() ?\n",
    "\n",
    "Ans: spam['cat'] is used to check at what index key 'cat, exist.\n",
    "     spam.values() is used to get all values from spam dictionary"
   ]
  },
  {
   "cell_type": "code",
   "execution_count": 10,
   "id": "f1bb6daf",
   "metadata": {},
   "outputs": [
    {
     "data": {
      "text/plain": [
       "dict_values([1, 2])"
      ]
     },
     "execution_count": 10,
     "metadata": {},
     "output_type": "execute_result"
    }
   ],
   "source": [
    "spam.values()"
   ]
  },
  {
   "cell_type": "markdown",
   "id": "3575cd41",
   "metadata": {},
   "source": [
    "7.what is a shortcut for the following code ?\n",
    "\n",
    "if 'color' not in spam:\n",
    "    spam['color'] ='black'\n",
    "\n",
    "Ans: spam.setdefault('color','black')    # setdefault()  method in dictionary returns the value of a key if the key is already present in the dictionary, If not it inserts key with a value to the dictionary"
   ]
  },
  {
   "cell_type": "markdown",
   "id": "19c63806",
   "metadata": {},
   "source": [
    "8.How do you 'pretty print' dictionary values using which modules and function ?\n",
    "\n",
    "Ans: 1. by importing pprint module and using function - pprtint()     \n",
    "     2. by importing json module and using function - dumps()\n",
    "     3. by importing yaml module and by using function - dump()"
   ]
  },
  {
   "cell_type": "code",
   "execution_count": 29,
   "id": "5cbc4444",
   "metadata": {},
   "outputs": [
    {
     "name": "stdout",
     "output_type": "stream",
     "text": [
      "{'address': 'Pune', 'age': 32, 'name': 'hemant'}\n"
     ]
    }
   ],
   "source": [
    "#example1\n",
    "\n",
    "import pprint\n",
    "\n",
    "dict={'name': 'hemant', 'age':32, 'address':'Pune'}\n",
    "\n",
    "pprint.pprint(dict)"
   ]
  },
  {
   "cell_type": "code",
   "execution_count": 35,
   "id": "c66dbaa1",
   "metadata": {},
   "outputs": [
    {
     "name": "stdout",
     "output_type": "stream",
     "text": [
      "{\n",
      "    \"name\": \"Raj\",\n",
      "    \"age\": 32,\n",
      "    \"address\": \"Pune\"\n",
      "}\n"
     ]
    }
   ],
   "source": [
    "import json\n",
    "\n",
    "dict={'name': 'Raj', 'age':32, 'address':'Pune'}\n",
    "\n",
    "print(json.dumps(dict, sort_keys=False, indent=4))"
   ]
  }
 ],
 "metadata": {
  "kernelspec": {
   "display_name": "Python 3",
   "language": "python",
   "name": "python3"
  },
  "language_info": {
   "codemirror_mode": {
    "name": "ipython",
    "version": 3
   },
   "file_extension": ".py",
   "mimetype": "text/x-python",
   "name": "python",
   "nbconvert_exporter": "python",
   "pygments_lexer": "ipython3",
   "version": "3.8.8"
  }
 },
 "nbformat": 4,
 "nbformat_minor": 5
}
