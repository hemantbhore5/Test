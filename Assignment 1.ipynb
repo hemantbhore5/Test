{
 "cells": [
  {
   "cell_type": "markdown",
   "id": "01f08485",
   "metadata": {},
   "source": [
    "# Python Basic Assignments\n",
    "# Assignment 1\n",
    "\n",
    "\n",
    "\n",
    "# 1. In the below elements which of them are values or an expression? eg:- values can be integer or string and expressions will be mathematical operators.\n",
    "\n",
    "* = expression \n",
    "'hello' = values \n",
    "-87.8 = values \n",
    "- = expression  \n",
    "/ = expression \n",
    "+ = expression \n",
    "6 = values integer \n",
    "\n",
    "# 2. What is the difference between string and variable?\n",
    "\n",
    "Variable is basically the name of the location in memory of your computer given by user.\n",
    "A string is the values inside the single or double quotes assigned to a string/ characters\n",
    "\n",
    "# 3. Describe three different data types.\n",
    "\n",
    "List-  List is a ordered collection of data. Lists are mutable\n",
    "Eg. [“abd”, 4,5,6, “jwfnw”]\n",
    "Tuple- An ordered collection of Python objects.Tuples are immutable\n",
    "Eg. Tuple1 = (0, 1, 2, 3)\n",
    "Boolean- Data type with one of the two built-in values, True or False.\n",
    "\n",
    "# 4. What is an expression made up of? What do all expressions do?\n",
    "\n",
    "Expressions are made up of combinations of values, operators and functions.\n",
    "Expression evaluate down to a single value or output.\n",
    "\n",
    "\n",
    "# 5. This assignment statements, like spam = 10. What is the difference between an expression and a statement?\n",
    "\n",
    "An assignment statement gives a value to a variable. Here varible is - spam and value is -10\n",
    "A statement consists of anything we can do in Python: calculating a value, assigning a value, deleting a variable, printing a value, returning from a function, raising an exception, etc.\n",
    "An expression is a statement that returns a value.\n",
    "Expressions are often part of a statement.\n",
    "\n",
    "# 6. After running the following code, what does the variable bacon contain? bacon = 22                                                                                                                      bacon + 1\n",
    "\n",
    "variable bacon returns value 22\n",
    "\n",
    "# 7. What should the values of the following two terms be?                                 'spam' + 'spamspam'                                                                                                'spam' * 3\n",
    "\n",
    "'spamspamspam'\n",
    "\n",
    "# 8. Why is eggs a valid variable name while 100 is invalid?\n",
    "\n",
    "variable can start with any alphabet but not with numeric value.\n",
    "\n",
    "\n",
    "# 9. What three functions can be used to get the integer, floating-point number, or string version of a value?\n",
    "\n",
    "the three functions are int, float and str\n",
    "eg. consider the value is 546\n",
    "then\n",
    "int(546)\n",
    "546\n",
    "float(546)\n",
    "546.0\n",
    "str(546)\n",
    "'546'\n",
    "\n",
    "\n",
    "# 10. Why does this expression cause an error? How can you fix it?                       'I have eaten ' + 99 + ' burritos.\n",
    "\n",
    "this expression cause an error because concatination of str with int is not possible. ie this expression has two different data types.\n",
    "we can fix it by changing data type of int to str like 'I have eaten ' + str(99) + ' burritos'\n",
    " "
   ]
  },
  {
   "cell_type": "code",
   "execution_count": 4,
   "id": "df00b8c3",
   "metadata": {},
   "outputs": [
    {
     "data": {
      "text/plain": [
       "'spamspamspam'"
      ]
     },
     "execution_count": 4,
     "metadata": {},
     "output_type": "execute_result"
    }
   ],
   "source": [
    "'spam' + 'spamspam'"
   ]
  },
  {
   "cell_type": "code",
   "execution_count": 5,
   "id": "2d3f9ec7",
   "metadata": {},
   "outputs": [
    {
     "data": {
      "text/plain": [
       "'spamspamspam'"
      ]
     },
     "execution_count": 5,
     "metadata": {},
     "output_type": "execute_result"
    }
   ],
   "source": [
    "'spam' * 3"
   ]
  },
  {
   "cell_type": "code",
   "execution_count": 7,
   "id": "91a6b449",
   "metadata": {},
   "outputs": [
    {
     "ename": "TypeError",
     "evalue": "can only concatenate str (not \"int\") to str",
     "output_type": "error",
     "traceback": [
      "\u001b[1;31m---------------------------------------------------------------------------\u001b[0m",
      "\u001b[1;31mTypeError\u001b[0m                                 Traceback (most recent call last)",
      "\u001b[1;32m<ipython-input-7-1fad7467ed84>\u001b[0m in \u001b[0;36m<module>\u001b[1;34m\u001b[0m\n\u001b[1;32m----> 1\u001b[1;33m \u001b[1;34m'I have eaten '\u001b[0m \u001b[1;33m+\u001b[0m \u001b[1;36m99\u001b[0m \u001b[1;33m+\u001b[0m \u001b[1;34m' burritos'\u001b[0m\u001b[1;33m\u001b[0m\u001b[1;33m\u001b[0m\u001b[0m\n\u001b[0m",
      "\u001b[1;31mTypeError\u001b[0m: can only concatenate str (not \"int\") to str"
     ]
    }
   ],
   "source": [
    "'I have eaten ' + 99 + ' burritos'"
   ]
  },
  {
   "cell_type": "code",
   "execution_count": 8,
   "id": "231f2b46",
   "metadata": {},
   "outputs": [
    {
     "data": {
      "text/plain": [
       "'I have eaten 99 burritos'"
      ]
     },
     "execution_count": 8,
     "metadata": {},
     "output_type": "execute_result"
    }
   ],
   "source": [
    "'I have eaten ' + str(99) + ' burritos'"
   ]
  },
  {
   "cell_type": "code",
   "execution_count": 9,
   "id": "8734cf32",
   "metadata": {},
   "outputs": [
    {
     "data": {
      "text/plain": [
       "23"
      ]
     },
     "execution_count": 9,
     "metadata": {},
     "output_type": "execute_result"
    }
   ],
   "source": [
    "bacon = 22      \n",
    "bacon + 1"
   ]
  },
  {
   "cell_type": "code",
   "execution_count": 10,
   "id": "884157fc",
   "metadata": {},
   "outputs": [
    {
     "data": {
      "text/plain": [
       "22"
      ]
     },
     "execution_count": 10,
     "metadata": {},
     "output_type": "execute_result"
    }
   ],
   "source": [
    "bacon"
   ]
  },
  {
   "cell_type": "code",
   "execution_count": 11,
   "id": "bdd2bf05",
   "metadata": {},
   "outputs": [
    {
     "data": {
      "text/plain": [
       "546"
      ]
     },
     "execution_count": 11,
     "metadata": {},
     "output_type": "execute_result"
    }
   ],
   "source": [
    "int(546)"
   ]
  },
  {
   "cell_type": "code",
   "execution_count": 12,
   "id": "a41e182b",
   "metadata": {},
   "outputs": [
    {
     "data": {
      "text/plain": [
       "546.0"
      ]
     },
     "execution_count": 12,
     "metadata": {},
     "output_type": "execute_result"
    }
   ],
   "source": [
    "float(546)"
   ]
  },
  {
   "cell_type": "code",
   "execution_count": 13,
   "id": "ca67e358",
   "metadata": {},
   "outputs": [
    {
     "data": {
      "text/plain": [
       "'546'"
      ]
     },
     "execution_count": 13,
     "metadata": {},
     "output_type": "execute_result"
    }
   ],
   "source": [
    "str(546)"
   ]
  },
  {
   "cell_type": "code",
   "execution_count": null,
   "id": "44991661",
   "metadata": {},
   "outputs": [],
   "source": []
  }
 ],
 "metadata": {
  "kernelspec": {
   "display_name": "Python 3",
   "language": "python",
   "name": "python3"
  },
  "language_info": {
   "codemirror_mode": {
    "name": "ipython",
    "version": 3
   },
   "file_extension": ".py",
   "mimetype": "text/x-python",
   "name": "python",
   "nbconvert_exporter": "python",
   "pygments_lexer": "ipython3",
   "version": "3.8.8"
  }
 },
 "nbformat": 4,
 "nbformat_minor": 5
}
