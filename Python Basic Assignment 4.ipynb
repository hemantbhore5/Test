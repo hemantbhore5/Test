{
 "cells": [
  {
   "cell_type": "markdown",
   "id": "e30d3abd",
   "metadata": {},
   "source": [
    "Python Basic Assignment 4"
   ]
  },
  {
   "cell_type": "markdown",
   "id": "ffcff15c",
   "metadata": {},
   "source": [
    "1.What exactly is []?\n",
    "\n",
    "Ans- [] represents a blank list ie list with no values\n"
   ]
  },
  {
   "cell_type": "markdown",
   "id": "d03733b0",
   "metadata": {},
   "source": [
    "2.In a list of values stored in a variable called spam, how would you assign the value 'hello' as the third value? \n",
    "   (Assume [2, 4, 6, 8, 10] are in spam.)\n",
    "\n",
    "Ans: spam[2]='hello'"
   ]
  },
  {
   "cell_type": "code",
   "execution_count": 1,
   "id": "f16c8617",
   "metadata": {},
   "outputs": [
    {
     "name": "stdout",
     "output_type": "stream",
     "text": [
      "[2, 4, 6, 8, 10]\n",
      "[2, 4, 'hello', 8, 10]\n"
     ]
    }
   ],
   "source": [
    "spam=[2,4,6,8,10]\n",
    "print(spam)\n",
    "spam[2]='hello'\n",
    "print(spam)"
   ]
  },
  {
   "cell_type": "markdown",
   "id": "d77bd64d",
   "metadata": {},
   "source": [
    "Let's pretend the spam includes the list ['a','b','c',d'] for the next three queries."
   ]
  },
  {
   "cell_type": "markdown",
   "id": "2a84b787",
   "metadata": {},
   "source": [
    "3. What is the value of spam[int(int('3'*2)//11)] ?\n",
    "\n",
    "Ans: 'd'"
   ]
  },
  {
   "cell_type": "code",
   "execution_count": 2,
   "id": "66a9e587",
   "metadata": {},
   "outputs": [
    {
     "name": "stdout",
     "output_type": "stream",
     "text": [
      "d\n"
     ]
    }
   ],
   "source": [
    "spam=['a','b','c','d']\n",
    "print(spam[int(int('3'*2)//11)])"
   ]
  },
  {
   "cell_type": "markdown",
   "id": "9acd4220",
   "metadata": {},
   "source": [
    "4. What is the value of spam[-1]?\n",
    "\n",
    "Ans: 'd' (Negative indexing)"
   ]
  },
  {
   "cell_type": "markdown",
   "id": "892960ef",
   "metadata": {},
   "source": [
    "5. What is the value of spam[:2]?\n",
    "\n",
    "Ans: spam[:2] returns all elements in the list ie 'a' and 'b' ( 0 to 2 excluding upper index 2)"
   ]
  },
  {
   "cell_type": "code",
   "execution_count": 3,
   "id": "4ecd0924",
   "metadata": {},
   "outputs": [
    {
     "data": {
      "text/plain": [
       "['a', 'b']"
      ]
     },
     "execution_count": 3,
     "metadata": {},
     "output_type": "execute_result"
    }
   ],
   "source": [
    "spam=['a','b','c','d']\n",
    "spam[:2]"
   ]
  },
  {
   "cell_type": "markdown",
   "id": "0156310a",
   "metadata": {},
   "source": [
    "Let's pretend bacon has the list [3.14,'cat',11,'cat',True] for the next three question"
   ]
  },
  {
   "cell_type": "markdown",
   "id": "094e8400",
   "metadata": {},
   "source": [
    "6. What is the value of bacon.index('cat')?\n",
    "\n",
    "Ans: 1 (returns index of string 'cat')"
   ]
  },
  {
   "cell_type": "code",
   "execution_count": 4,
   "id": "8d11f49b",
   "metadata": {},
   "outputs": [
    {
     "data": {
      "text/plain": [
       "1"
      ]
     },
     "execution_count": 4,
     "metadata": {},
     "output_type": "execute_result"
    }
   ],
   "source": [
    "bacon=[3.14,'cat',11,'cat',True]\n",
    "bacon.index('cat')"
   ]
  },
  {
   "cell_type": "markdown",
   "id": "0de30caf",
   "metadata": {},
   "source": [
    "7. How does bacon.append(99) change the look of the list value in bacon?\n",
    "\n",
    "Ans: integer 99 will get added at the end of the list bacon= [3.14, 'cat', 11, 'cat', True, 99]"
   ]
  },
  {
   "cell_type": "code",
   "execution_count": 6,
   "id": "c786b0c0",
   "metadata": {},
   "outputs": [
    {
     "data": {
      "text/plain": [
       "[3.14, 'cat', 11, 'cat', True, 99, 99]"
      ]
     },
     "execution_count": 6,
     "metadata": {},
     "output_type": "execute_result"
    }
   ],
   "source": [
    "bacon.append(99)\n",
    "bacon"
   ]
  },
  {
   "cell_type": "markdown",
   "id": "61dfea33",
   "metadata": {},
   "source": [
    "8. How does bacon.remove('cat') change the look of the list in bacon?\n",
    "\n",
    "Ans: removes the string 'cat' from list so bacon= [3.14, 11, True, 99]"
   ]
  },
  {
   "cell_type": "code",
   "execution_count": 8,
   "id": "3569e7be",
   "metadata": {},
   "outputs": [
    {
     "data": {
      "text/plain": [
       "[3.14, 11, True, 99, 99]"
      ]
     },
     "execution_count": 8,
     "metadata": {},
     "output_type": "execute_result"
    }
   ],
   "source": [
    "bacon.remove('cat')\n",
    "bacon"
   ]
  },
  {
   "cell_type": "markdown",
   "id": "9881c55e",
   "metadata": {},
   "source": [
    "9.what are the list concatenation and list replication operations?\n",
    "\n",
    "Ans: list concatenation adds two lists like operator '+', while the operator for replication is '*' which gives multiple instance of that same list"
   ]
  },
  {
   "cell_type": "markdown",
   "id": "e66d4375",
   "metadata": {},
   "source": [
    "10.what is the difference between the list method append() and insert()?\n",
    "\n",
    "Ans:  append() will add values only to the end of a list, insert() can add values anywhere in the list as per the index number provided"
   ]
  },
  {
   "cell_type": "markdown",
   "id": "675cd589",
   "metadata": {},
   "source": [
    "11. What are the two methods for removing items from a list?\n",
    "\n",
    "Ans: The pop() and the remove() method are two ways to remove values from a list"
   ]
  },
  {
   "cell_type": "markdown",
   "id": "b143b628",
   "metadata": {},
   "source": [
    "12. Describe how list values and string values are identical.\n",
    "\n",
    "Ans: Both lists and strings can be indexced and sliced. Both are iterable objects,they can be used in for loops, be concatenated or replicated."
   ]
  },
  {
   "cell_type": "markdown",
   "id": "2d85af2c",
   "metadata": {},
   "source": [
    "13. What's the difference between tuples and lists?\n",
    "\n",
    "Ans: Lists are Mutable, Indexable and Slicable.In lists values added, removed, or changed.\n",
    "     Tuples are Immutable but Indexable and Slicable.\n",
    "     Tuples are represented using parentheses, (), while lists use the square brackets, []"
   ]
  },
  {
   "cell_type": "markdown",
   "id": "503c9cca",
   "metadata": {},
   "source": [
    " 14. How do you type a tuple value that only contains the integer 42?\n",
    " \n",
    " Ans: t=(42,)    "
   ]
  },
  {
   "cell_type": "markdown",
   "id": "2921c7be",
   "metadata": {},
   "source": [
    "15. How do you get a list value's tuple form? How do you get a tuple value's list form?\n",
    "\n",
    "Ans: The tuple() and list() functions, respectively are used to convert a list to tuple and vice versa"
   ]
  },
  {
   "cell_type": "code",
   "execution_count": 15,
   "id": "cfb8366a",
   "metadata": {},
   "outputs": [
    {
     "name": "stdout",
     "output_type": "stream",
     "text": [
      "(1, 2, 3, 4)\n",
      "[5, 6, 7, 8]\n"
     ]
    }
   ],
   "source": [
    "# example\n",
    "\n",
    "t=tuple([1,2,3,4])\n",
    "l=list((5,6,7,8))\n",
    "\n",
    "print(t)\n",
    "print(l)"
   ]
  },
  {
   "cell_type": "markdown",
   "id": "c4b21015",
   "metadata": {},
   "source": [
    "16. Variables that \"contain\" list values are not necessarily lists themselves. Instead, what do they contain?\n",
    "\n",
    "Ans: Variables will contain references to list values"
   ]
  },
  {
   "cell_type": "markdown",
   "id": "d99863c2",
   "metadata": {},
   "source": [
    "17. How do you distinguish between copy.copy() and copy.deepcopy()?\n",
    "\n",
    "Ans: The copy.copy() function will do a shallow copy of a list ie any changes made in new list will be reflected in original list.\n",
    "while the copy.deepcopy() function will do a deep copy of a list.That is, any changes made in new list will not be reflected in original list"
   ]
  }
 ],
 "metadata": {
  "kernelspec": {
   "display_name": "Python 3",
   "language": "python",
   "name": "python3"
  },
  "language_info": {
   "codemirror_mode": {
    "name": "ipython",
    "version": 3
   },
   "file_extension": ".py",
   "mimetype": "text/x-python",
   "name": "python",
   "nbconvert_exporter": "python",
   "pygments_lexer": "ipython3",
   "version": "3.8.8"
  }
 },
 "nbformat": 4,
 "nbformat_minor": 5
}
